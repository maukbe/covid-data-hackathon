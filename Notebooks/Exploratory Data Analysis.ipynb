{
 "cells": [
  {
   "cell_type": "markdown",
   "id": "reasonable-champagne",
   "metadata": {},
   "source": [
    "# Exploratory Data Analysis\n",
    "\n",
    "Notebook getting to grips with the shape and quality of the data and the features available."
   ]
  },
  {
   "cell_type": "code",
   "execution_count": 98,
   "id": "reported-questionnaire",
   "metadata": {},
   "outputs": [],
   "source": [
    "import pandas as pd\n",
    "import numpy as np\n",
    "import matplotlib.pyplot as plt"
   ]
  },
  {
   "cell_type": "code",
   "execution_count": 3,
   "id": "positive-virgin",
   "metadata": {},
   "outputs": [],
   "source": [
    "# Start by looking at the Covid cases\n",
    "df = pd.read_csv('../data/cases.csv')"
   ]
  },
  {
   "cell_type": "code",
   "execution_count": 7,
   "id": "eleven-gauge",
   "metadata": {},
   "outputs": [
    {
     "data": {
      "text/html": [
       "<div>\n",
       "<style scoped>\n",
       "    .dataframe tbody tr th:only-of-type {\n",
       "        vertical-align: middle;\n",
       "    }\n",
       "\n",
       "    .dataframe tbody tr th {\n",
       "        vertical-align: top;\n",
       "    }\n",
       "\n",
       "    .dataframe thead th {\n",
       "        text-align: right;\n",
       "    }\n",
       "</style>\n",
       "<table border=\"1\" class=\"dataframe\">\n",
       "  <thead>\n",
       "    <tr style=\"text-align: right;\">\n",
       "      <th></th>\n",
       "      <th>case_id</th>\n",
       "      <th>origin_case_id</th>\n",
       "      <th>date</th>\n",
       "      <th>age</th>\n",
       "      <th>gender</th>\n",
       "      <th>city</th>\n",
       "      <th>province/state</th>\n",
       "      <th>country</th>\n",
       "      <th>current_status</th>\n",
       "      <th>source</th>\n",
       "      <th>symptoms</th>\n",
       "      <th>date_onset_symptoms</th>\n",
       "      <th>date_admission_hospital</th>\n",
       "      <th>date_confirmation</th>\n",
       "      <th>underlying_conditions</th>\n",
       "      <th>travel_history_dates</th>\n",
       "      <th>travel_history_location</th>\n",
       "      <th>death_date</th>\n",
       "      <th>notes_for_discussion</th>\n",
       "      <th>Unnamed: 19</th>\n",
       "    </tr>\n",
       "  </thead>\n",
       "  <tbody>\n",
       "    <tr>\n",
       "      <th>0</th>\n",
       "      <td>1</td>\n",
       "      <td>NaN</td>\n",
       "      <td>2/27/2020</td>\n",
       "      <td>44</td>\n",
       "      <td>Male</td>\n",
       "      <td>Ogun</td>\n",
       "      <td>Ogun</td>\n",
       "      <td>Nigeria</td>\n",
       "      <td>In recovery</td>\n",
       "      <td>www.bbc.com</td>\n",
       "      <td>NaN</td>\n",
       "      <td>NaN</td>\n",
       "      <td>2/27/2020</td>\n",
       "      <td>27-Feb-20</td>\n",
       "      <td>No</td>\n",
       "      <td>NaN</td>\n",
       "      <td>Italy</td>\n",
       "      <td>NaN</td>\n",
       "      <td>Patient came in from Italy.</td>\n",
       "      <td>NaN</td>\n",
       "    </tr>\n",
       "    <tr>\n",
       "      <th>1</th>\n",
       "      <td>2</td>\n",
       "      <td>NaN</td>\n",
       "      <td>03/09/2020</td>\n",
       "      <td>NaN</td>\n",
       "      <td>NaN</td>\n",
       "      <td>Ogun</td>\n",
       "      <td>Ogun</td>\n",
       "      <td>Nigeria</td>\n",
       "      <td>In treatment</td>\n",
       "      <td>https://twitter.com/NCDCgov/status/12376418124...</td>\n",
       "      <td>NaN</td>\n",
       "      <td>03/09/2020</td>\n",
       "      <td>03/09/2020</td>\n",
       "      <td>03/09/2020</td>\n",
       "      <td>No</td>\n",
       "      <td>NaN</td>\n",
       "      <td>NaN</td>\n",
       "      <td>NaN</td>\n",
       "      <td>NaN</td>\n",
       "      <td>NaN</td>\n",
       "    </tr>\n",
       "    <tr>\n",
       "      <th>2</th>\n",
       "      <td>3</td>\n",
       "      <td>NaN</td>\n",
       "      <td>3/16/2020</td>\n",
       "      <td>30</td>\n",
       "      <td>Female</td>\n",
       "      <td>Lagos</td>\n",
       "      <td>Lagos</td>\n",
       "      <td>Nigeria</td>\n",
       "      <td>Clinically Stable</td>\n",
       "      <td>https://twitter.com/NCDCgov/status/12398485450...</td>\n",
       "      <td>Fever, Cold, Cough</td>\n",
       "      <td>NaN</td>\n",
       "      <td>3/17/2020</td>\n",
       "      <td>3/17/2020</td>\n",
       "      <td>NaN</td>\n",
       "      <td>13-Mar-20</td>\n",
       "      <td>United Kingdom</td>\n",
       "      <td>NaN</td>\n",
       "      <td>Patient returned from trip to UK and was in 14...</td>\n",
       "      <td>NaN</td>\n",
       "    </tr>\n",
       "    <tr>\n",
       "      <th>3</th>\n",
       "      <td>4</td>\n",
       "      <td>NaN</td>\n",
       "      <td>3/16/2020</td>\n",
       "      <td>58</td>\n",
       "      <td>Male</td>\n",
       "      <td>Lagos</td>\n",
       "      <td>Lagos</td>\n",
       "      <td>Nigeria</td>\n",
       "      <td>NaN</td>\n",
       "      <td>https://twitter.com/NCDCgov/status/12405579967...</td>\n",
       "      <td>NaN</td>\n",
       "      <td>NaN</td>\n",
       "      <td>NaN</td>\n",
       "      <td>NaN</td>\n",
       "      <td>NaN</td>\n",
       "      <td>13-Mar-20</td>\n",
       "      <td>USA</td>\n",
       "      <td>NaN</td>\n",
       "      <td>Patient returned from travel to USA</td>\n",
       "      <td>NaN</td>\n",
       "    </tr>\n",
       "    <tr>\n",
       "      <th>4</th>\n",
       "      <td>5</td>\n",
       "      <td>NaN</td>\n",
       "      <td>3/16/2020</td>\n",
       "      <td>38</td>\n",
       "      <td>Female</td>\n",
       "      <td>NaN</td>\n",
       "      <td>Ekiti</td>\n",
       "      <td>Nigeria</td>\n",
       "      <td>NaN</td>\n",
       "      <td>https://twitter.com/NCDCgov/status/12405579967...</td>\n",
       "      <td>NaN</td>\n",
       "      <td>NaN</td>\n",
       "      <td>NaN</td>\n",
       "      <td>NaN</td>\n",
       "      <td>NaN</td>\n",
       "      <td>NaN</td>\n",
       "      <td>NaN</td>\n",
       "      <td>NaN</td>\n",
       "      <td>Patient made contact with traveler from the USA</td>\n",
       "      <td>NaN</td>\n",
       "    </tr>\n",
       "  </tbody>\n",
       "</table>\n",
       "</div>"
      ],
      "text/plain": [
       "   case_id  origin_case_id        date  age  gender   city province/state  \\\n",
       "0        1             NaN   2/27/2020   44    Male   Ogun           Ogun   \n",
       "1        2             NaN  03/09/2020  NaN     NaN   Ogun           Ogun   \n",
       "2        3             NaN   3/16/2020   30  Female  Lagos          Lagos   \n",
       "3        4             NaN   3/16/2020   58    Male  Lagos          Lagos   \n",
       "4        5             NaN   3/16/2020   38  Female    NaN          Ekiti   \n",
       "\n",
       "   country     current_status  \\\n",
       "0  Nigeria        In recovery   \n",
       "1  Nigeria       In treatment   \n",
       "2  Nigeria  Clinically Stable   \n",
       "3  Nigeria                NaN   \n",
       "4  Nigeria                NaN   \n",
       "\n",
       "                                              source            symptoms  \\\n",
       "0                                        www.bbc.com                 NaN   \n",
       "1  https://twitter.com/NCDCgov/status/12376418124...                 NaN   \n",
       "2  https://twitter.com/NCDCgov/status/12398485450...  Fever, Cold, Cough   \n",
       "3  https://twitter.com/NCDCgov/status/12405579967...                 NaN   \n",
       "4  https://twitter.com/NCDCgov/status/12405579967...                 NaN   \n",
       "\n",
       "  date_onset_symptoms date_admission_hospital date_confirmation  \\\n",
       "0                 NaN               2/27/2020         27-Feb-20   \n",
       "1          03/09/2020              03/09/2020        03/09/2020   \n",
       "2                 NaN               3/17/2020         3/17/2020   \n",
       "3                 NaN                     NaN               NaN   \n",
       "4                 NaN                     NaN               NaN   \n",
       "\n",
       "  underlying_conditions travel_history_dates travel_history_location  \\\n",
       "0                    No                  NaN                   Italy   \n",
       "1                    No                  NaN                     NaN   \n",
       "2                   NaN            13-Mar-20          United Kingdom   \n",
       "3                   NaN            13-Mar-20                     USA   \n",
       "4                   NaN                  NaN                     NaN   \n",
       "\n",
       "  death_date                               notes_for_discussion Unnamed: 19  \n",
       "0        NaN                       Patient came in from Italy.          NaN  \n",
       "1        NaN                                                NaN         NaN  \n",
       "2        NaN  Patient returned from trip to UK and was in 14...         NaN  \n",
       "3        NaN                Patient returned from travel to USA         NaN  \n",
       "4        NaN    Patient made contact with traveler from the USA         NaN  "
      ]
     },
     "execution_count": 7,
     "metadata": {},
     "output_type": "execute_result"
    }
   ],
   "source": [
    "df.head()"
   ]
  },
  {
   "cell_type": "code",
   "execution_count": 5,
   "id": "overhead-spell",
   "metadata": {},
   "outputs": [
    {
     "data": {
      "text/html": [
       "<div>\n",
       "<style scoped>\n",
       "    .dataframe tbody tr th:only-of-type {\n",
       "        vertical-align: middle;\n",
       "    }\n",
       "\n",
       "    .dataframe tbody tr th {\n",
       "        vertical-align: top;\n",
       "    }\n",
       "\n",
       "    .dataframe thead th {\n",
       "        text-align: right;\n",
       "    }\n",
       "</style>\n",
       "<table border=\"1\" class=\"dataframe\">\n",
       "  <thead>\n",
       "    <tr style=\"text-align: right;\">\n",
       "      <th></th>\n",
       "      <th>case_id</th>\n",
       "      <th>origin_case_id</th>\n",
       "      <th>date</th>\n",
       "      <th>age</th>\n",
       "      <th>gender</th>\n",
       "      <th>city</th>\n",
       "      <th>province/state</th>\n",
       "      <th>country</th>\n",
       "      <th>current_status</th>\n",
       "      <th>source</th>\n",
       "      <th>symptoms</th>\n",
       "      <th>date_onset_symptoms</th>\n",
       "      <th>date_admission_hospital</th>\n",
       "      <th>date_confirmation</th>\n",
       "      <th>underlying_conditions</th>\n",
       "      <th>travel_history_dates</th>\n",
       "      <th>travel_history_location</th>\n",
       "      <th>death_date</th>\n",
       "      <th>notes_for_discussion</th>\n",
       "      <th>Unnamed: 19</th>\n",
       "    </tr>\n",
       "  </thead>\n",
       "  <tbody>\n",
       "    <tr>\n",
       "      <th>count</th>\n",
       "      <td>6401.000000</td>\n",
       "      <td>0.0</td>\n",
       "      <td>6401</td>\n",
       "      <td>10</td>\n",
       "      <td>12</td>\n",
       "      <td>16</td>\n",
       "      <td>6401</td>\n",
       "      <td>6401</td>\n",
       "      <td>381</td>\n",
       "      <td>6401</td>\n",
       "      <td>384</td>\n",
       "      <td>1</td>\n",
       "      <td>4</td>\n",
       "      <td>27</td>\n",
       "      <td>4</td>\n",
       "      <td>15</td>\n",
       "      <td>32</td>\n",
       "      <td>1</td>\n",
       "      <td>39</td>\n",
       "      <td>2</td>\n",
       "    </tr>\n",
       "    <tr>\n",
       "      <th>unique</th>\n",
       "      <td>NaN</td>\n",
       "      <td>NaN</td>\n",
       "      <td>64</td>\n",
       "      <td>10</td>\n",
       "      <td>3</td>\n",
       "      <td>6</td>\n",
       "      <td>35</td>\n",
       "      <td>1</td>\n",
       "      <td>5</td>\n",
       "      <td>42</td>\n",
       "      <td>3</td>\n",
       "      <td>1</td>\n",
       "      <td>4</td>\n",
       "      <td>7</td>\n",
       "      <td>3</td>\n",
       "      <td>4</td>\n",
       "      <td>7</td>\n",
       "      <td>1</td>\n",
       "      <td>17</td>\n",
       "      <td>2</td>\n",
       "    </tr>\n",
       "    <tr>\n",
       "      <th>top</th>\n",
       "      <td>NaN</td>\n",
       "      <td>NaN</td>\n",
       "      <td>05/08/2020</td>\n",
       "      <td>43</td>\n",
       "      <td>Male</td>\n",
       "      <td>FCT</td>\n",
       "      <td>Lagos</td>\n",
       "      <td>Nigeria</td>\n",
       "      <td>Receiving Treatment</td>\n",
       "      <td>https://twitter.com/NCDCgov/status/12614279842...</td>\n",
       "      <td>Mild to moderate</td>\n",
       "      <td>03/09/2020</td>\n",
       "      <td>3/22/2020</td>\n",
       "      <td>3/21/2020</td>\n",
       "      <td>No</td>\n",
       "      <td>3/14/2020-3/21/2020</td>\n",
       "      <td>High risk country</td>\n",
       "      <td>3/23/2020</td>\n",
       "      <td>Returned from overseas travel</td>\n",
       "      <td>https://twitter.com/NCDCgov/status/12610693001...</td>\n",
       "    </tr>\n",
       "    <tr>\n",
       "      <th>freq</th>\n",
       "      <td>NaN</td>\n",
       "      <td>NaN</td>\n",
       "      <td>386</td>\n",
       "      <td>1</td>\n",
       "      <td>6</td>\n",
       "      <td>8</td>\n",
       "      <td>2756</td>\n",
       "      <td>6401</td>\n",
       "      <td>376</td>\n",
       "      <td>464</td>\n",
       "      <td>382</td>\n",
       "      <td>1</td>\n",
       "      <td>1</td>\n",
       "      <td>10</td>\n",
       "      <td>2</td>\n",
       "      <td>11</td>\n",
       "      <td>20</td>\n",
       "      <td>1</td>\n",
       "      <td>21</td>\n",
       "      <td>1</td>\n",
       "    </tr>\n",
       "    <tr>\n",
       "      <th>mean</th>\n",
       "      <td>3201.000000</td>\n",
       "      <td>NaN</td>\n",
       "      <td>NaN</td>\n",
       "      <td>NaN</td>\n",
       "      <td>NaN</td>\n",
       "      <td>NaN</td>\n",
       "      <td>NaN</td>\n",
       "      <td>NaN</td>\n",
       "      <td>NaN</td>\n",
       "      <td>NaN</td>\n",
       "      <td>NaN</td>\n",
       "      <td>NaN</td>\n",
       "      <td>NaN</td>\n",
       "      <td>NaN</td>\n",
       "      <td>NaN</td>\n",
       "      <td>NaN</td>\n",
       "      <td>NaN</td>\n",
       "      <td>NaN</td>\n",
       "      <td>NaN</td>\n",
       "      <td>NaN</td>\n",
       "    </tr>\n",
       "    <tr>\n",
       "      <th>std</th>\n",
       "      <td>1847.953868</td>\n",
       "      <td>NaN</td>\n",
       "      <td>NaN</td>\n",
       "      <td>NaN</td>\n",
       "      <td>NaN</td>\n",
       "      <td>NaN</td>\n",
       "      <td>NaN</td>\n",
       "      <td>NaN</td>\n",
       "      <td>NaN</td>\n",
       "      <td>NaN</td>\n",
       "      <td>NaN</td>\n",
       "      <td>NaN</td>\n",
       "      <td>NaN</td>\n",
       "      <td>NaN</td>\n",
       "      <td>NaN</td>\n",
       "      <td>NaN</td>\n",
       "      <td>NaN</td>\n",
       "      <td>NaN</td>\n",
       "      <td>NaN</td>\n",
       "      <td>NaN</td>\n",
       "    </tr>\n",
       "    <tr>\n",
       "      <th>min</th>\n",
       "      <td>1.000000</td>\n",
       "      <td>NaN</td>\n",
       "      <td>NaN</td>\n",
       "      <td>NaN</td>\n",
       "      <td>NaN</td>\n",
       "      <td>NaN</td>\n",
       "      <td>NaN</td>\n",
       "      <td>NaN</td>\n",
       "      <td>NaN</td>\n",
       "      <td>NaN</td>\n",
       "      <td>NaN</td>\n",
       "      <td>NaN</td>\n",
       "      <td>NaN</td>\n",
       "      <td>NaN</td>\n",
       "      <td>NaN</td>\n",
       "      <td>NaN</td>\n",
       "      <td>NaN</td>\n",
       "      <td>NaN</td>\n",
       "      <td>NaN</td>\n",
       "      <td>NaN</td>\n",
       "    </tr>\n",
       "    <tr>\n",
       "      <th>25%</th>\n",
       "      <td>1601.000000</td>\n",
       "      <td>NaN</td>\n",
       "      <td>NaN</td>\n",
       "      <td>NaN</td>\n",
       "      <td>NaN</td>\n",
       "      <td>NaN</td>\n",
       "      <td>NaN</td>\n",
       "      <td>NaN</td>\n",
       "      <td>NaN</td>\n",
       "      <td>NaN</td>\n",
       "      <td>NaN</td>\n",
       "      <td>NaN</td>\n",
       "      <td>NaN</td>\n",
       "      <td>NaN</td>\n",
       "      <td>NaN</td>\n",
       "      <td>NaN</td>\n",
       "      <td>NaN</td>\n",
       "      <td>NaN</td>\n",
       "      <td>NaN</td>\n",
       "      <td>NaN</td>\n",
       "    </tr>\n",
       "    <tr>\n",
       "      <th>50%</th>\n",
       "      <td>3201.000000</td>\n",
       "      <td>NaN</td>\n",
       "      <td>NaN</td>\n",
       "      <td>NaN</td>\n",
       "      <td>NaN</td>\n",
       "      <td>NaN</td>\n",
       "      <td>NaN</td>\n",
       "      <td>NaN</td>\n",
       "      <td>NaN</td>\n",
       "      <td>NaN</td>\n",
       "      <td>NaN</td>\n",
       "      <td>NaN</td>\n",
       "      <td>NaN</td>\n",
       "      <td>NaN</td>\n",
       "      <td>NaN</td>\n",
       "      <td>NaN</td>\n",
       "      <td>NaN</td>\n",
       "      <td>NaN</td>\n",
       "      <td>NaN</td>\n",
       "      <td>NaN</td>\n",
       "    </tr>\n",
       "    <tr>\n",
       "      <th>75%</th>\n",
       "      <td>4801.000000</td>\n",
       "      <td>NaN</td>\n",
       "      <td>NaN</td>\n",
       "      <td>NaN</td>\n",
       "      <td>NaN</td>\n",
       "      <td>NaN</td>\n",
       "      <td>NaN</td>\n",
       "      <td>NaN</td>\n",
       "      <td>NaN</td>\n",
       "      <td>NaN</td>\n",
       "      <td>NaN</td>\n",
       "      <td>NaN</td>\n",
       "      <td>NaN</td>\n",
       "      <td>NaN</td>\n",
       "      <td>NaN</td>\n",
       "      <td>NaN</td>\n",
       "      <td>NaN</td>\n",
       "      <td>NaN</td>\n",
       "      <td>NaN</td>\n",
       "      <td>NaN</td>\n",
       "    </tr>\n",
       "    <tr>\n",
       "      <th>max</th>\n",
       "      <td>6401.000000</td>\n",
       "      <td>NaN</td>\n",
       "      <td>NaN</td>\n",
       "      <td>NaN</td>\n",
       "      <td>NaN</td>\n",
       "      <td>NaN</td>\n",
       "      <td>NaN</td>\n",
       "      <td>NaN</td>\n",
       "      <td>NaN</td>\n",
       "      <td>NaN</td>\n",
       "      <td>NaN</td>\n",
       "      <td>NaN</td>\n",
       "      <td>NaN</td>\n",
       "      <td>NaN</td>\n",
       "      <td>NaN</td>\n",
       "      <td>NaN</td>\n",
       "      <td>NaN</td>\n",
       "      <td>NaN</td>\n",
       "      <td>NaN</td>\n",
       "      <td>NaN</td>\n",
       "    </tr>\n",
       "  </tbody>\n",
       "</table>\n",
       "</div>"
      ],
      "text/plain": [
       "            case_id  origin_case_id        date  age gender city  \\\n",
       "count   6401.000000             0.0        6401   10     12   16   \n",
       "unique          NaN             NaN          64   10      3    6   \n",
       "top             NaN             NaN  05/08/2020   43   Male  FCT   \n",
       "freq            NaN             NaN         386    1      6    8   \n",
       "mean    3201.000000             NaN         NaN  NaN    NaN  NaN   \n",
       "std     1847.953868             NaN         NaN  NaN    NaN  NaN   \n",
       "min        1.000000             NaN         NaN  NaN    NaN  NaN   \n",
       "25%     1601.000000             NaN         NaN  NaN    NaN  NaN   \n",
       "50%     3201.000000             NaN         NaN  NaN    NaN  NaN   \n",
       "75%     4801.000000             NaN         NaN  NaN    NaN  NaN   \n",
       "max     6401.000000             NaN         NaN  NaN    NaN  NaN   \n",
       "\n",
       "       province/state  country       current_status  \\\n",
       "count            6401     6401                  381   \n",
       "unique             35        1                    5   \n",
       "top             Lagos  Nigeria  Receiving Treatment   \n",
       "freq             2756     6401                  376   \n",
       "mean              NaN      NaN                  NaN   \n",
       "std               NaN      NaN                  NaN   \n",
       "min               NaN      NaN                  NaN   \n",
       "25%               NaN      NaN                  NaN   \n",
       "50%               NaN      NaN                  NaN   \n",
       "75%               NaN      NaN                  NaN   \n",
       "max               NaN      NaN                  NaN   \n",
       "\n",
       "                                                   source          symptoms  \\\n",
       "count                                                6401               384   \n",
       "unique                                                 42                 3   \n",
       "top     https://twitter.com/NCDCgov/status/12614279842...  Mild to moderate   \n",
       "freq                                                  464               382   \n",
       "mean                                                  NaN               NaN   \n",
       "std                                                   NaN               NaN   \n",
       "min                                                   NaN               NaN   \n",
       "25%                                                   NaN               NaN   \n",
       "50%                                                   NaN               NaN   \n",
       "75%                                                   NaN               NaN   \n",
       "max                                                   NaN               NaN   \n",
       "\n",
       "       date_onset_symptoms date_admission_hospital date_confirmation  \\\n",
       "count                    1                       4                27   \n",
       "unique                   1                       4                 7   \n",
       "top             03/09/2020               3/22/2020         3/21/2020   \n",
       "freq                     1                       1                10   \n",
       "mean                   NaN                     NaN               NaN   \n",
       "std                    NaN                     NaN               NaN   \n",
       "min                    NaN                     NaN               NaN   \n",
       "25%                    NaN                     NaN               NaN   \n",
       "50%                    NaN                     NaN               NaN   \n",
       "75%                    NaN                     NaN               NaN   \n",
       "max                    NaN                     NaN               NaN   \n",
       "\n",
       "       underlying_conditions travel_history_dates travel_history_location  \\\n",
       "count                      4                   15                      32   \n",
       "unique                     3                    4                       7   \n",
       "top                       No  3/14/2020-3/21/2020       High risk country   \n",
       "freq                       2                   11                      20   \n",
       "mean                     NaN                  NaN                     NaN   \n",
       "std                      NaN                  NaN                     NaN   \n",
       "min                      NaN                  NaN                     NaN   \n",
       "25%                      NaN                  NaN                     NaN   \n",
       "50%                      NaN                  NaN                     NaN   \n",
       "75%                      NaN                  NaN                     NaN   \n",
       "max                      NaN                  NaN                     NaN   \n",
       "\n",
       "       death_date           notes_for_discussion  \\\n",
       "count           1                             39   \n",
       "unique          1                             17   \n",
       "top     3/23/2020  Returned from overseas travel   \n",
       "freq            1                             21   \n",
       "mean          NaN                            NaN   \n",
       "std           NaN                            NaN   \n",
       "min           NaN                            NaN   \n",
       "25%           NaN                            NaN   \n",
       "50%           NaN                            NaN   \n",
       "75%           NaN                            NaN   \n",
       "max           NaN                            NaN   \n",
       "\n",
       "                                              Unnamed: 19  \n",
       "count                                                   2  \n",
       "unique                                                  2  \n",
       "top     https://twitter.com/NCDCgov/status/12610693001...  \n",
       "freq                                                    1  \n",
       "mean                                                  NaN  \n",
       "std                                                   NaN  \n",
       "min                                                   NaN  \n",
       "25%                                                   NaN  \n",
       "50%                                                   NaN  \n",
       "75%                                                   NaN  \n",
       "max                                                   NaN  "
      ]
     },
     "execution_count": 5,
     "metadata": {},
     "output_type": "execute_result"
    }
   ],
   "source": [
    "df.describe(include='all')"
   ]
  },
  {
   "cell_type": "markdown",
   "id": "great-shoot",
   "metadata": {},
   "source": [
    "Let's go through the featues one by one. The case_id looks to be unique, whilst the origin_case_id doesn't seem to be providing any useful data. "
   ]
  },
  {
   "cell_type": "code",
   "execution_count": 9,
   "id": "fuzzy-snapshot",
   "metadata": {},
   "outputs": [
    {
     "data": {
      "text/plain": [
       "<bound method Series.unique of 0      NaN\n",
       "1      NaN\n",
       "2      NaN\n",
       "3      NaN\n",
       "4      NaN\n",
       "        ..\n",
       "6396   NaN\n",
       "6397   NaN\n",
       "6398   NaN\n",
       "6399   NaN\n",
       "6400   NaN\n",
       "Name: origin_case_id, Length: 6401, dtype: float64>"
      ]
     },
     "execution_count": 9,
     "metadata": {},
     "output_type": "execute_result"
    }
   ],
   "source": [
    "df['origin_case_id'].unique"
   ]
  },
  {
   "cell_type": "markdown",
   "id": "fluid-liver",
   "metadata": {},
   "source": [
    "There all NaN so can drop this column. "
   ]
  },
  {
   "cell_type": "code",
   "execution_count": 11,
   "id": "exceptional-secretary",
   "metadata": {},
   "outputs": [],
   "source": [
    "df.drop('origin_case_id', axis=1, inplace=True)"
   ]
  },
  {
   "cell_type": "code",
   "execution_count": 17,
   "id": "reported-reducing",
   "metadata": {},
   "outputs": [
    {
     "data": {
      "text/plain": [
       "0"
      ]
     },
     "execution_count": 17,
     "metadata": {},
     "output_type": "execute_result"
    }
   ],
   "source": [
    "df['date'].isna().sum()"
   ]
  },
  {
   "cell_type": "code",
   "execution_count": 24,
   "id": "greatest-lexington",
   "metadata": {},
   "outputs": [
    {
     "data": {
      "text/plain": [
       "dtype('O')"
      ]
     },
     "execution_count": 24,
     "metadata": {},
     "output_type": "execute_result"
    }
   ],
   "source": [
    "df.dtypes['date']"
   ]
  },
  {
   "cell_type": "markdown",
   "id": "informative-jonathan",
   "metadata": {},
   "source": [
    "So there's no null dates which is good, but they're saved as objects which is not so good. Let's convert them to dates. "
   ]
  },
  {
   "cell_type": "code",
   "execution_count": 29,
   "id": "hollow-canada",
   "metadata": {},
   "outputs": [
    {
     "data": {
      "text/plain": [
       "1       03/09/2020\n",
       "143     04/01/2020\n",
       "159     04/01/2020\n",
       "160     04/01/2020\n",
       "161     04/01/2020\n",
       "           ...    \n",
       "1796     4/30/2020\n",
       "1797     4/30/2020\n",
       "1798     4/30/2020\n",
       "1788     4/30/2020\n",
       "1928     4/30/2020\n",
       "Name: date, Length: 6401, dtype: object"
      ]
     },
     "execution_count": 29,
     "metadata": {},
     "output_type": "execute_result"
    }
   ],
   "source": [
    "df['date'].sort_values()"
   ]
  },
  {
   "cell_type": "code",
   "execution_count": 39,
   "id": "occupational-chance",
   "metadata": {},
   "outputs": [
    {
     "name": "stderr",
     "output_type": "stream",
     "text": [
      "/opt/anaconda3/envs/hackathon/lib/python3.7/site-packages/ipykernel_launcher.py:1: FutureWarning: Treating datetime data as categorical rather than numeric in `.describe` is deprecated and will be removed in a future version of pandas. Specify `datetime_is_numeric=True` to silence this warning and adopt the future behavior now.\n",
      "  \"\"\"Entry point for launching an IPython kernel.\n"
     ]
    },
    {
     "data": {
      "text/plain": [
       "count                    6401\n",
       "unique                     64\n",
       "top       2020-05-08 00:00:00\n",
       "freq                      386\n",
       "first     2020-02-27 00:00:00\n",
       "last      2020-05-19 00:00:00\n",
       "Name: date, dtype: object"
      ]
     },
     "execution_count": 39,
     "metadata": {},
     "output_type": "execute_result"
    }
   ],
   "source": [
    "pd.to_datetime(df['date']).describe()"
   ]
  },
  {
   "cell_type": "code",
   "execution_count": 40,
   "id": "laden-letters",
   "metadata": {},
   "outputs": [],
   "source": [
    "# That looks correct now so save it to the df\n",
    "df['date'] = pd.to_datetime(df['date'])"
   ]
  },
  {
   "cell_type": "code",
   "execution_count": 41,
   "id": "aware-breast",
   "metadata": {},
   "outputs": [
    {
     "data": {
      "text/html": [
       "<div>\n",
       "<style scoped>\n",
       "    .dataframe tbody tr th:only-of-type {\n",
       "        vertical-align: middle;\n",
       "    }\n",
       "\n",
       "    .dataframe tbody tr th {\n",
       "        vertical-align: top;\n",
       "    }\n",
       "\n",
       "    .dataframe thead th {\n",
       "        text-align: right;\n",
       "    }\n",
       "</style>\n",
       "<table border=\"1\" class=\"dataframe\">\n",
       "  <thead>\n",
       "    <tr style=\"text-align: right;\">\n",
       "      <th></th>\n",
       "      <th>case_id</th>\n",
       "      <th>date</th>\n",
       "      <th>age</th>\n",
       "      <th>gender</th>\n",
       "      <th>city</th>\n",
       "      <th>province/state</th>\n",
       "      <th>country</th>\n",
       "      <th>current_status</th>\n",
       "      <th>source</th>\n",
       "      <th>symptoms</th>\n",
       "      <th>date_onset_symptoms</th>\n",
       "      <th>date_admission_hospital</th>\n",
       "      <th>date_confirmation</th>\n",
       "      <th>underlying_conditions</th>\n",
       "      <th>travel_history_dates</th>\n",
       "      <th>travel_history_location</th>\n",
       "      <th>death_date</th>\n",
       "      <th>notes_for_discussion</th>\n",
       "      <th>Unnamed: 19</th>\n",
       "    </tr>\n",
       "  </thead>\n",
       "  <tbody>\n",
       "    <tr>\n",
       "      <th>0</th>\n",
       "      <td>1</td>\n",
       "      <td>2020-02-27</td>\n",
       "      <td>44</td>\n",
       "      <td>Male</td>\n",
       "      <td>Ogun</td>\n",
       "      <td>Ogun</td>\n",
       "      <td>Nigeria</td>\n",
       "      <td>In recovery</td>\n",
       "      <td>www.bbc.com</td>\n",
       "      <td>NaN</td>\n",
       "      <td>NaN</td>\n",
       "      <td>2/27/2020</td>\n",
       "      <td>27-Feb-20</td>\n",
       "      <td>No</td>\n",
       "      <td>NaN</td>\n",
       "      <td>Italy</td>\n",
       "      <td>NaN</td>\n",
       "      <td>Patient came in from Italy.</td>\n",
       "      <td>NaN</td>\n",
       "    </tr>\n",
       "    <tr>\n",
       "      <th>1</th>\n",
       "      <td>2</td>\n",
       "      <td>2020-03-09</td>\n",
       "      <td>NaN</td>\n",
       "      <td>NaN</td>\n",
       "      <td>Ogun</td>\n",
       "      <td>Ogun</td>\n",
       "      <td>Nigeria</td>\n",
       "      <td>In treatment</td>\n",
       "      <td>https://twitter.com/NCDCgov/status/12376418124...</td>\n",
       "      <td>NaN</td>\n",
       "      <td>03/09/2020</td>\n",
       "      <td>03/09/2020</td>\n",
       "      <td>03/09/2020</td>\n",
       "      <td>No</td>\n",
       "      <td>NaN</td>\n",
       "      <td>NaN</td>\n",
       "      <td>NaN</td>\n",
       "      <td>NaN</td>\n",
       "      <td>NaN</td>\n",
       "    </tr>\n",
       "    <tr>\n",
       "      <th>2</th>\n",
       "      <td>3</td>\n",
       "      <td>2020-03-16</td>\n",
       "      <td>30</td>\n",
       "      <td>Female</td>\n",
       "      <td>Lagos</td>\n",
       "      <td>Lagos</td>\n",
       "      <td>Nigeria</td>\n",
       "      <td>Clinically Stable</td>\n",
       "      <td>https://twitter.com/NCDCgov/status/12398485450...</td>\n",
       "      <td>Fever, Cold, Cough</td>\n",
       "      <td>NaN</td>\n",
       "      <td>3/17/2020</td>\n",
       "      <td>3/17/2020</td>\n",
       "      <td>NaN</td>\n",
       "      <td>13-Mar-20</td>\n",
       "      <td>United Kingdom</td>\n",
       "      <td>NaN</td>\n",
       "      <td>Patient returned from trip to UK and was in 14...</td>\n",
       "      <td>NaN</td>\n",
       "    </tr>\n",
       "    <tr>\n",
       "      <th>3</th>\n",
       "      <td>4</td>\n",
       "      <td>2020-03-16</td>\n",
       "      <td>58</td>\n",
       "      <td>Male</td>\n",
       "      <td>Lagos</td>\n",
       "      <td>Lagos</td>\n",
       "      <td>Nigeria</td>\n",
       "      <td>NaN</td>\n",
       "      <td>https://twitter.com/NCDCgov/status/12405579967...</td>\n",
       "      <td>NaN</td>\n",
       "      <td>NaN</td>\n",
       "      <td>NaN</td>\n",
       "      <td>NaN</td>\n",
       "      <td>NaN</td>\n",
       "      <td>13-Mar-20</td>\n",
       "      <td>USA</td>\n",
       "      <td>NaN</td>\n",
       "      <td>Patient returned from travel to USA</td>\n",
       "      <td>NaN</td>\n",
       "    </tr>\n",
       "    <tr>\n",
       "      <th>4</th>\n",
       "      <td>5</td>\n",
       "      <td>2020-03-16</td>\n",
       "      <td>38</td>\n",
       "      <td>Female</td>\n",
       "      <td>NaN</td>\n",
       "      <td>Ekiti</td>\n",
       "      <td>Nigeria</td>\n",
       "      <td>NaN</td>\n",
       "      <td>https://twitter.com/NCDCgov/status/12405579967...</td>\n",
       "      <td>NaN</td>\n",
       "      <td>NaN</td>\n",
       "      <td>NaN</td>\n",
       "      <td>NaN</td>\n",
       "      <td>NaN</td>\n",
       "      <td>NaN</td>\n",
       "      <td>NaN</td>\n",
       "      <td>NaN</td>\n",
       "      <td>Patient made contact with traveler from the USA</td>\n",
       "      <td>NaN</td>\n",
       "    </tr>\n",
       "  </tbody>\n",
       "</table>\n",
       "</div>"
      ],
      "text/plain": [
       "   case_id       date  age  gender   city province/state  country  \\\n",
       "0        1 2020-02-27   44    Male   Ogun           Ogun  Nigeria   \n",
       "1        2 2020-03-09  NaN     NaN   Ogun           Ogun  Nigeria   \n",
       "2        3 2020-03-16   30  Female  Lagos          Lagos  Nigeria   \n",
       "3        4 2020-03-16   58    Male  Lagos          Lagos  Nigeria   \n",
       "4        5 2020-03-16   38  Female    NaN          Ekiti  Nigeria   \n",
       "\n",
       "      current_status                                             source  \\\n",
       "0        In recovery                                        www.bbc.com   \n",
       "1       In treatment  https://twitter.com/NCDCgov/status/12376418124...   \n",
       "2  Clinically Stable  https://twitter.com/NCDCgov/status/12398485450...   \n",
       "3                NaN  https://twitter.com/NCDCgov/status/12405579967...   \n",
       "4                NaN  https://twitter.com/NCDCgov/status/12405579967...   \n",
       "\n",
       "             symptoms date_onset_symptoms date_admission_hospital  \\\n",
       "0                 NaN                 NaN               2/27/2020   \n",
       "1                 NaN          03/09/2020              03/09/2020   \n",
       "2  Fever, Cold, Cough                 NaN               3/17/2020   \n",
       "3                 NaN                 NaN                     NaN   \n",
       "4                 NaN                 NaN                     NaN   \n",
       "\n",
       "  date_confirmation underlying_conditions travel_history_dates  \\\n",
       "0         27-Feb-20                    No                  NaN   \n",
       "1        03/09/2020                    No                  NaN   \n",
       "2         3/17/2020                   NaN            13-Mar-20   \n",
       "3               NaN                   NaN            13-Mar-20   \n",
       "4               NaN                   NaN                  NaN   \n",
       "\n",
       "  travel_history_location death_date  \\\n",
       "0                   Italy        NaN   \n",
       "1                     NaN        NaN   \n",
       "2          United Kingdom        NaN   \n",
       "3                     USA        NaN   \n",
       "4                     NaN        NaN   \n",
       "\n",
       "                                notes_for_discussion Unnamed: 19  \n",
       "0                       Patient came in from Italy.          NaN  \n",
       "1                                                NaN         NaN  \n",
       "2  Patient returned from trip to UK and was in 14...         NaN  \n",
       "3                Patient returned from travel to USA         NaN  \n",
       "4    Patient made contact with traveler from the USA         NaN  "
      ]
     },
     "execution_count": 41,
     "metadata": {},
     "output_type": "execute_result"
    }
   ],
   "source": [
    "df.head()"
   ]
  },
  {
   "cell_type": "markdown",
   "id": "olympic-motion",
   "metadata": {},
   "source": [
    "Let's look at the age now"
   ]
  },
  {
   "cell_type": "code",
   "execution_count": 42,
   "id": "honest-accommodation",
   "metadata": {},
   "outputs": [
    {
     "data": {
      "text/plain": [
       "count     10\n",
       "unique    10\n",
       "top       43\n",
       "freq       1\n",
       "Name: age, dtype: object"
      ]
     },
     "execution_count": 42,
     "metadata": {},
     "output_type": "execute_result"
    }
   ],
   "source": [
    "df['age'].describe()"
   ]
  },
  {
   "cell_type": "code",
   "execution_count": 47,
   "id": "hundred-beauty",
   "metadata": {},
   "outputs": [
    {
     "data": {
      "text/plain": [
       "array(['44', nan, '30', '58', '38', '6 weeks', '59', '29', '23', '43',\n",
       "       '67'], dtype=object)"
      ]
     },
     "execution_count": 47,
     "metadata": {},
     "output_type": "execute_result"
    }
   ],
   "source": [
    "# Those values look a bit off, a max age of 43 is way too low. Let's reinterpret it as an integer\n",
    "df['age'].unique()"
   ]
  },
  {
   "cell_type": "code",
   "execution_count": 52,
   "id": "impossible-vienna",
   "metadata": {},
   "outputs": [],
   "source": [
    "# Those ages look a bit sparse, we'll tidy up the '6 weeks' and convert it anyway\n",
    "df['age'] = df['age'].replace('6 weeks', '0')"
   ]
  },
  {
   "cell_type": "code",
   "execution_count": 53,
   "id": "persistent-journalism",
   "metadata": {},
   "outputs": [
    {
     "data": {
      "text/plain": [
       "array(['44', nan, '30', '58', '38', 0, '59', '29', '23', '43', '67'],\n",
       "      dtype=object)"
      ]
     },
     "execution_count": 53,
     "metadata": {},
     "output_type": "execute_result"
    }
   ],
   "source": [
    "df['age'].unique()"
   ]
  },
  {
   "cell_type": "code",
   "execution_count": 55,
   "id": "manual-kitchen",
   "metadata": {},
   "outputs": [],
   "source": [
    "df['age'] = df['age'].fillna(0).astype('int')"
   ]
  },
  {
   "cell_type": "code",
   "execution_count": 57,
   "id": "theoretical-pharmacy",
   "metadata": {},
   "outputs": [
    {
     "data": {
      "text/html": [
       "<div>\n",
       "<style scoped>\n",
       "    .dataframe tbody tr th:only-of-type {\n",
       "        vertical-align: middle;\n",
       "    }\n",
       "\n",
       "    .dataframe tbody tr th {\n",
       "        vertical-align: top;\n",
       "    }\n",
       "\n",
       "    .dataframe thead th {\n",
       "        text-align: right;\n",
       "    }\n",
       "</style>\n",
       "<table border=\"1\" class=\"dataframe\">\n",
       "  <thead>\n",
       "    <tr style=\"text-align: right;\">\n",
       "      <th></th>\n",
       "      <th>case_id</th>\n",
       "      <th>date</th>\n",
       "      <th>age</th>\n",
       "      <th>gender</th>\n",
       "      <th>city</th>\n",
       "      <th>province/state</th>\n",
       "      <th>country</th>\n",
       "      <th>current_status</th>\n",
       "      <th>source</th>\n",
       "      <th>symptoms</th>\n",
       "      <th>date_onset_symptoms</th>\n",
       "      <th>date_admission_hospital</th>\n",
       "      <th>date_confirmation</th>\n",
       "      <th>underlying_conditions</th>\n",
       "      <th>travel_history_dates</th>\n",
       "      <th>travel_history_location</th>\n",
       "      <th>death_date</th>\n",
       "      <th>notes_for_discussion</th>\n",
       "      <th>Unnamed: 19</th>\n",
       "    </tr>\n",
       "  </thead>\n",
       "  <tbody>\n",
       "    <tr>\n",
       "      <th>0</th>\n",
       "      <td>1</td>\n",
       "      <td>2020-02-27</td>\n",
       "      <td>44</td>\n",
       "      <td>Male</td>\n",
       "      <td>Ogun</td>\n",
       "      <td>Ogun</td>\n",
       "      <td>Nigeria</td>\n",
       "      <td>In recovery</td>\n",
       "      <td>www.bbc.com</td>\n",
       "      <td>NaN</td>\n",
       "      <td>NaN</td>\n",
       "      <td>2/27/2020</td>\n",
       "      <td>27-Feb-20</td>\n",
       "      <td>No</td>\n",
       "      <td>NaN</td>\n",
       "      <td>Italy</td>\n",
       "      <td>NaN</td>\n",
       "      <td>Patient came in from Italy.</td>\n",
       "      <td>NaN</td>\n",
       "    </tr>\n",
       "    <tr>\n",
       "      <th>1</th>\n",
       "      <td>2</td>\n",
       "      <td>2020-03-09</td>\n",
       "      <td>0</td>\n",
       "      <td>NaN</td>\n",
       "      <td>Ogun</td>\n",
       "      <td>Ogun</td>\n",
       "      <td>Nigeria</td>\n",
       "      <td>In treatment</td>\n",
       "      <td>https://twitter.com/NCDCgov/status/12376418124...</td>\n",
       "      <td>NaN</td>\n",
       "      <td>03/09/2020</td>\n",
       "      <td>03/09/2020</td>\n",
       "      <td>03/09/2020</td>\n",
       "      <td>No</td>\n",
       "      <td>NaN</td>\n",
       "      <td>NaN</td>\n",
       "      <td>NaN</td>\n",
       "      <td>NaN</td>\n",
       "      <td>NaN</td>\n",
       "    </tr>\n",
       "    <tr>\n",
       "      <th>2</th>\n",
       "      <td>3</td>\n",
       "      <td>2020-03-16</td>\n",
       "      <td>30</td>\n",
       "      <td>Female</td>\n",
       "      <td>Lagos</td>\n",
       "      <td>Lagos</td>\n",
       "      <td>Nigeria</td>\n",
       "      <td>Clinically Stable</td>\n",
       "      <td>https://twitter.com/NCDCgov/status/12398485450...</td>\n",
       "      <td>Fever, Cold, Cough</td>\n",
       "      <td>NaN</td>\n",
       "      <td>3/17/2020</td>\n",
       "      <td>3/17/2020</td>\n",
       "      <td>NaN</td>\n",
       "      <td>13-Mar-20</td>\n",
       "      <td>United Kingdom</td>\n",
       "      <td>NaN</td>\n",
       "      <td>Patient returned from trip to UK and was in 14...</td>\n",
       "      <td>NaN</td>\n",
       "    </tr>\n",
       "    <tr>\n",
       "      <th>3</th>\n",
       "      <td>4</td>\n",
       "      <td>2020-03-16</td>\n",
       "      <td>58</td>\n",
       "      <td>Male</td>\n",
       "      <td>Lagos</td>\n",
       "      <td>Lagos</td>\n",
       "      <td>Nigeria</td>\n",
       "      <td>NaN</td>\n",
       "      <td>https://twitter.com/NCDCgov/status/12405579967...</td>\n",
       "      <td>NaN</td>\n",
       "      <td>NaN</td>\n",
       "      <td>NaN</td>\n",
       "      <td>NaN</td>\n",
       "      <td>NaN</td>\n",
       "      <td>13-Mar-20</td>\n",
       "      <td>USA</td>\n",
       "      <td>NaN</td>\n",
       "      <td>Patient returned from travel to USA</td>\n",
       "      <td>NaN</td>\n",
       "    </tr>\n",
       "    <tr>\n",
       "      <th>4</th>\n",
       "      <td>5</td>\n",
       "      <td>2020-03-16</td>\n",
       "      <td>38</td>\n",
       "      <td>Female</td>\n",
       "      <td>NaN</td>\n",
       "      <td>Ekiti</td>\n",
       "      <td>Nigeria</td>\n",
       "      <td>NaN</td>\n",
       "      <td>https://twitter.com/NCDCgov/status/12405579967...</td>\n",
       "      <td>NaN</td>\n",
       "      <td>NaN</td>\n",
       "      <td>NaN</td>\n",
       "      <td>NaN</td>\n",
       "      <td>NaN</td>\n",
       "      <td>NaN</td>\n",
       "      <td>NaN</td>\n",
       "      <td>NaN</td>\n",
       "      <td>Patient made contact with traveler from the USA</td>\n",
       "      <td>NaN</td>\n",
       "    </tr>\n",
       "  </tbody>\n",
       "</table>\n",
       "</div>"
      ],
      "text/plain": [
       "   case_id       date  age  gender   city province/state  country  \\\n",
       "0        1 2020-02-27   44    Male   Ogun           Ogun  Nigeria   \n",
       "1        2 2020-03-09    0     NaN   Ogun           Ogun  Nigeria   \n",
       "2        3 2020-03-16   30  Female  Lagos          Lagos  Nigeria   \n",
       "3        4 2020-03-16   58    Male  Lagos          Lagos  Nigeria   \n",
       "4        5 2020-03-16   38  Female    NaN          Ekiti  Nigeria   \n",
       "\n",
       "      current_status                                             source  \\\n",
       "0        In recovery                                        www.bbc.com   \n",
       "1       In treatment  https://twitter.com/NCDCgov/status/12376418124...   \n",
       "2  Clinically Stable  https://twitter.com/NCDCgov/status/12398485450...   \n",
       "3                NaN  https://twitter.com/NCDCgov/status/12405579967...   \n",
       "4                NaN  https://twitter.com/NCDCgov/status/12405579967...   \n",
       "\n",
       "             symptoms date_onset_symptoms date_admission_hospital  \\\n",
       "0                 NaN                 NaN               2/27/2020   \n",
       "1                 NaN          03/09/2020              03/09/2020   \n",
       "2  Fever, Cold, Cough                 NaN               3/17/2020   \n",
       "3                 NaN                 NaN                     NaN   \n",
       "4                 NaN                 NaN                     NaN   \n",
       "\n",
       "  date_confirmation underlying_conditions travel_history_dates  \\\n",
       "0         27-Feb-20                    No                  NaN   \n",
       "1        03/09/2020                    No                  NaN   \n",
       "2         3/17/2020                   NaN            13-Mar-20   \n",
       "3               NaN                   NaN            13-Mar-20   \n",
       "4               NaN                   NaN                  NaN   \n",
       "\n",
       "  travel_history_location death_date  \\\n",
       "0                   Italy        NaN   \n",
       "1                     NaN        NaN   \n",
       "2          United Kingdom        NaN   \n",
       "3                     USA        NaN   \n",
       "4                     NaN        NaN   \n",
       "\n",
       "                                notes_for_discussion Unnamed: 19  \n",
       "0                       Patient came in from Italy.          NaN  \n",
       "1                                                NaN         NaN  \n",
       "2  Patient returned from trip to UK and was in 14...         NaN  \n",
       "3                Patient returned from travel to USA         NaN  \n",
       "4    Patient made contact with traveler from the USA         NaN  "
      ]
     },
     "execution_count": 57,
     "metadata": {},
     "output_type": "execute_result"
    }
   ],
   "source": [
    "df.head()"
   ]
  },
  {
   "cell_type": "code",
   "execution_count": 58,
   "id": "vocational-development",
   "metadata": {},
   "outputs": [
    {
     "data": {
      "text/plain": [
       "array(['Male', nan, 'Female', 'Suleja'], dtype=object)"
      ]
     },
     "execution_count": 58,
     "metadata": {},
     "output_type": "execute_result"
    }
   ],
   "source": [
    "# Gender\n",
    "df['gender'].unique()"
   ]
  },
  {
   "cell_type": "code",
   "execution_count": 76,
   "id": "square-pressure",
   "metadata": {},
   "outputs": [],
   "source": [
    "# Suleja is a city in Nigeria, think this has been placed in the wrong column\n",
    "df.loc[df['gender'] == 'Suleja','city'] = 'Suleja'\n",
    "df.loc[df['gender'] == 'Suleja','gender'] = np.nan"
   ]
  },
  {
   "cell_type": "code",
   "execution_count": 78,
   "id": "grand-geography",
   "metadata": {},
   "outputs": [
    {
     "data": {
      "text/plain": [
       "array(['Male', nan, 'Female'], dtype=object)"
      ]
     },
     "execution_count": 78,
     "metadata": {},
     "output_type": "execute_result"
    }
   ],
   "source": [
    "df['gender'].unique()"
   ]
  },
  {
   "cell_type": "code",
   "execution_count": 80,
   "id": "sapphire-shield",
   "metadata": {},
   "outputs": [],
   "source": [
    "df['gender'] = df['gender'].astype('string')"
   ]
  },
  {
   "cell_type": "code",
   "execution_count": 81,
   "id": "handed-stone",
   "metadata": {},
   "outputs": [
    {
     "data": {
      "text/plain": [
       "Male      6\n",
       "Female    5\n",
       "Name: gender, dtype: Int64"
      ]
     },
     "execution_count": 81,
     "metadata": {},
     "output_type": "execute_result"
    }
   ],
   "source": [
    "df['gender'].value_counts()"
   ]
  },
  {
   "cell_type": "markdown",
   "id": "resident-explosion",
   "metadata": {},
   "source": [
    "So the gender column is fixed, but is actually a bit sparse on data. What about the locations"
   ]
  },
  {
   "cell_type": "code",
   "execution_count": 83,
   "id": "fitted-toner",
   "metadata": {},
   "outputs": [
    {
     "data": {
      "text/plain": [
       "array(['Ogun', 'Lagos', nan, 'Lekki', 'FCT', 'Ibadan', 'Bauchi', 'Suleja'],\n",
       "      dtype=object)"
      ]
     },
     "execution_count": 83,
     "metadata": {},
     "output_type": "execute_result"
    }
   ],
   "source": [
    "df['city'].unique()"
   ]
  },
  {
   "cell_type": "code",
   "execution_count": 84,
   "id": "secret-iraqi",
   "metadata": {},
   "outputs": [
    {
     "data": {
      "text/plain": [
       "FCT       8\n",
       "Lagos     2\n",
       "Lekki     2\n",
       "Ogun      2\n",
       "Ibadan    1\n",
       "Bauchi    1\n",
       "Suleja    1\n",
       "Name: city, dtype: int64"
      ]
     },
     "execution_count": 84,
     "metadata": {},
     "output_type": "execute_result"
    }
   ],
   "source": [
    "df['city'].value_counts()"
   ]
  },
  {
   "cell_type": "code",
   "execution_count": 85,
   "id": "roman-genre",
   "metadata": {},
   "outputs": [
    {
     "data": {
      "text/plain": [
       "array(['Ogun', 'Lagos', 'Ekiti', 'Abuja', 'Oyo', 'Edo', 'Bauchi', 'Osun',\n",
       "       'Rivers', 'Enugu', 'Benue', 'Kaduna', 'Akwa Ibom', 'Ondo', 'Kwara',\n",
       "       'Delta', 'Katsina', 'Anambra', 'Niger', 'Kano', 'Jigawa', 'Borno',\n",
       "       'Gombe', 'Abia', 'Sokoto', 'Adamawa', 'Plateau', 'Zamfara', 'Imo',\n",
       "       'Taraba', 'Bayelsa', 'Ebonyi', 'Kebbi', 'Nasarawa', 'Yobe'],\n",
       "      dtype=object)"
      ]
     },
     "execution_count": 85,
     "metadata": {},
     "output_type": "execute_result"
    }
   ],
   "source": [
    "df['province/state'].unique()"
   ]
  },
  {
   "cell_type": "code",
   "execution_count": 86,
   "id": "antique-newman",
   "metadata": {},
   "outputs": [
    {
     "data": {
      "text/plain": [
       "Lagos        2756\n",
       "Kano          842\n",
       "Abuja         427\n",
       "Katsina       281\n",
       "Borno         227\n",
       "Bauchi        224\n",
       "Jigawa        205\n",
       "Ogun          177\n",
       "Kaduna        152\n",
       "Oyo           143\n",
       "Gombe         136\n",
       "Edo           119\n",
       "Sokoto        113\n",
       "Zamfara        84\n",
       "Kwara          65\n",
       "Rivers         53\n",
       "Plateau        50\n",
       "Osun           42\n",
       "Nasarawa       34\n",
       "Yobe           32\n",
       "Kebbi          32\n",
       "Delta          27\n",
       "Adamawa        26\n",
       "Niger          22\n",
       "Ondo           20\n",
       "Ekiti          19\n",
       "Akwa Ibom      18\n",
       "Taraba         17\n",
       "Enugu          16\n",
       "Ebonyi         13\n",
       "Bayelsa         7\n",
       "Imo             7\n",
       "Abia            5\n",
       "Anambra         5\n",
       "Benue           5\n",
       "Name: province/state, dtype: int64"
      ]
     },
     "execution_count": 86,
     "metadata": {},
     "output_type": "execute_result"
    }
   ],
   "source": [
    "df['province/state'].value_counts()"
   ]
  },
  {
   "cell_type": "code",
   "execution_count": 88,
   "id": "vocal-thickness",
   "metadata": {},
   "outputs": [
    {
     "data": {
      "text/plain": [
       "<bound method Series.unique of 0       Nigeria\n",
       "1       Nigeria\n",
       "2       Nigeria\n",
       "3       Nigeria\n",
       "4       Nigeria\n",
       "         ...   \n",
       "6396    Nigeria\n",
       "6397    Nigeria\n",
       "6398    Nigeria\n",
       "6399    Nigeria\n",
       "6400    Nigeria\n",
       "Name: country, Length: 6401, dtype: object>"
      ]
     },
     "execution_count": 88,
     "metadata": {},
     "output_type": "execute_result"
    }
   ],
   "source": [
    "df['country'].unique"
   ]
  },
  {
   "cell_type": "code",
   "execution_count": 91,
   "id": "descending-variable",
   "metadata": {},
   "outputs": [
    {
     "data": {
      "text/plain": [
       "Nigeria    6401\n",
       "Name: country, dtype: Int64"
      ]
     },
     "execution_count": 91,
     "metadata": {},
     "output_type": "execute_result"
    }
   ],
   "source": [
    "df['country'].astype('string').value_counts()"
   ]
  },
  {
   "cell_type": "markdown",
   "id": "natural-design",
   "metadata": {},
   "source": [
    "Location data looks good at the state/province level. We'll drop the country column as it doesn't add much"
   ]
  },
  {
   "cell_type": "code",
   "execution_count": 93,
   "id": "peripheral-gateway",
   "metadata": {},
   "outputs": [],
   "source": [
    "df.drop('country', axis=1, inplace=True)"
   ]
  },
  {
   "cell_type": "code",
   "execution_count": 111,
   "id": "charming-berry",
   "metadata": {},
   "outputs": [
    {
     "data": {
      "text/html": [
       "<div>\n",
       "<style scoped>\n",
       "    .dataframe tbody tr th:only-of-type {\n",
       "        vertical-align: middle;\n",
       "    }\n",
       "\n",
       "    .dataframe tbody tr th {\n",
       "        vertical-align: top;\n",
       "    }\n",
       "\n",
       "    .dataframe thead th {\n",
       "        text-align: right;\n",
       "    }\n",
       "</style>\n",
       "<table border=\"1\" class=\"dataframe\">\n",
       "  <thead>\n",
       "    <tr style=\"text-align: right;\">\n",
       "      <th></th>\n",
       "      <th>case_id</th>\n",
       "      <th>date</th>\n",
       "      <th>age</th>\n",
       "      <th>gender</th>\n",
       "      <th>city</th>\n",
       "      <th>province/state</th>\n",
       "      <th>current_status</th>\n",
       "      <th>source</th>\n",
       "      <th>symptoms</th>\n",
       "      <th>date_onset_symptoms</th>\n",
       "      <th>date_admission_hospital</th>\n",
       "      <th>date_confirmation</th>\n",
       "      <th>underlying_conditions</th>\n",
       "      <th>travel_history_dates</th>\n",
       "      <th>travel_history_location</th>\n",
       "      <th>death_date</th>\n",
       "      <th>notes_for_discussion</th>\n",
       "      <th>Unnamed: 19</th>\n",
       "    </tr>\n",
       "  </thead>\n",
       "  <tbody>\n",
       "    <tr>\n",
       "      <th>0</th>\n",
       "      <td>1</td>\n",
       "      <td>2020-02-27</td>\n",
       "      <td>44</td>\n",
       "      <td>Male</td>\n",
       "      <td>Ogun</td>\n",
       "      <td>Ogun</td>\n",
       "      <td>In recovery</td>\n",
       "      <td>www.bbc.com</td>\n",
       "      <td>NaN</td>\n",
       "      <td>NaN</td>\n",
       "      <td>2/27/2020</td>\n",
       "      <td>27-Feb-20</td>\n",
       "      <td>No</td>\n",
       "      <td>NaN</td>\n",
       "      <td>Italy</td>\n",
       "      <td>NaN</td>\n",
       "      <td>Patient came in from Italy.</td>\n",
       "      <td>NaN</td>\n",
       "    </tr>\n",
       "    <tr>\n",
       "      <th>1</th>\n",
       "      <td>2</td>\n",
       "      <td>2020-03-09</td>\n",
       "      <td>0</td>\n",
       "      <td>&lt;NA&gt;</td>\n",
       "      <td>Ogun</td>\n",
       "      <td>Ogun</td>\n",
       "      <td>In treatment</td>\n",
       "      <td>https://twitter.com/NCDCgov/status/12376418124...</td>\n",
       "      <td>NaN</td>\n",
       "      <td>03/09/2020</td>\n",
       "      <td>03/09/2020</td>\n",
       "      <td>03/09/2020</td>\n",
       "      <td>No</td>\n",
       "      <td>NaN</td>\n",
       "      <td>NaN</td>\n",
       "      <td>NaN</td>\n",
       "      <td>NaN</td>\n",
       "      <td>NaN</td>\n",
       "    </tr>\n",
       "    <tr>\n",
       "      <th>2</th>\n",
       "      <td>3</td>\n",
       "      <td>2020-03-16</td>\n",
       "      <td>30</td>\n",
       "      <td>Female</td>\n",
       "      <td>Lagos</td>\n",
       "      <td>Lagos</td>\n",
       "      <td>Clinically Stable</td>\n",
       "      <td>https://twitter.com/NCDCgov/status/12398485450...</td>\n",
       "      <td>Fever, Cold, Cough</td>\n",
       "      <td>NaN</td>\n",
       "      <td>3/17/2020</td>\n",
       "      <td>3/17/2020</td>\n",
       "      <td>NaN</td>\n",
       "      <td>13-Mar-20</td>\n",
       "      <td>United Kingdom</td>\n",
       "      <td>NaN</td>\n",
       "      <td>Patient returned from trip to UK and was in 14...</td>\n",
       "      <td>NaN</td>\n",
       "    </tr>\n",
       "    <tr>\n",
       "      <th>3</th>\n",
       "      <td>4</td>\n",
       "      <td>2020-03-16</td>\n",
       "      <td>58</td>\n",
       "      <td>Male</td>\n",
       "      <td>Lagos</td>\n",
       "      <td>Lagos</td>\n",
       "      <td>NaN</td>\n",
       "      <td>https://twitter.com/NCDCgov/status/12405579967...</td>\n",
       "      <td>NaN</td>\n",
       "      <td>NaN</td>\n",
       "      <td>NaN</td>\n",
       "      <td>NaN</td>\n",
       "      <td>NaN</td>\n",
       "      <td>13-Mar-20</td>\n",
       "      <td>USA</td>\n",
       "      <td>NaN</td>\n",
       "      <td>Patient returned from travel to USA</td>\n",
       "      <td>NaN</td>\n",
       "    </tr>\n",
       "    <tr>\n",
       "      <th>4</th>\n",
       "      <td>5</td>\n",
       "      <td>2020-03-16</td>\n",
       "      <td>38</td>\n",
       "      <td>Female</td>\n",
       "      <td>NaN</td>\n",
       "      <td>Ekiti</td>\n",
       "      <td>NaN</td>\n",
       "      <td>https://twitter.com/NCDCgov/status/12405579967...</td>\n",
       "      <td>NaN</td>\n",
       "      <td>NaN</td>\n",
       "      <td>NaN</td>\n",
       "      <td>NaN</td>\n",
       "      <td>NaN</td>\n",
       "      <td>NaN</td>\n",
       "      <td>NaN</td>\n",
       "      <td>NaN</td>\n",
       "      <td>Patient made contact with traveler from the USA</td>\n",
       "      <td>NaN</td>\n",
       "    </tr>\n",
       "  </tbody>\n",
       "</table>\n",
       "</div>"
      ],
      "text/plain": [
       "   case_id       date  age  gender   city province/state     current_status  \\\n",
       "0        1 2020-02-27   44    Male   Ogun           Ogun        In recovery   \n",
       "1        2 2020-03-09    0    <NA>   Ogun           Ogun       In treatment   \n",
       "2        3 2020-03-16   30  Female  Lagos          Lagos  Clinically Stable   \n",
       "3        4 2020-03-16   58    Male  Lagos          Lagos                NaN   \n",
       "4        5 2020-03-16   38  Female    NaN          Ekiti                NaN   \n",
       "\n",
       "                                              source            symptoms  \\\n",
       "0                                        www.bbc.com                 NaN   \n",
       "1  https://twitter.com/NCDCgov/status/12376418124...                 NaN   \n",
       "2  https://twitter.com/NCDCgov/status/12398485450...  Fever, Cold, Cough   \n",
       "3  https://twitter.com/NCDCgov/status/12405579967...                 NaN   \n",
       "4  https://twitter.com/NCDCgov/status/12405579967...                 NaN   \n",
       "\n",
       "  date_onset_symptoms date_admission_hospital date_confirmation  \\\n",
       "0                 NaN               2/27/2020         27-Feb-20   \n",
       "1          03/09/2020              03/09/2020        03/09/2020   \n",
       "2                 NaN               3/17/2020         3/17/2020   \n",
       "3                 NaN                     NaN               NaN   \n",
       "4                 NaN                     NaN               NaN   \n",
       "\n",
       "  underlying_conditions travel_history_dates travel_history_location  \\\n",
       "0                    No                  NaN                   Italy   \n",
       "1                    No                  NaN                     NaN   \n",
       "2                   NaN            13-Mar-20          United Kingdom   \n",
       "3                   NaN            13-Mar-20                     USA   \n",
       "4                   NaN                  NaN                     NaN   \n",
       "\n",
       "  death_date                               notes_for_discussion Unnamed: 19  \n",
       "0        NaN                       Patient came in from Italy.          NaN  \n",
       "1        NaN                                                NaN         NaN  \n",
       "2        NaN  Patient returned from trip to UK and was in 14...         NaN  \n",
       "3        NaN                Patient returned from travel to USA         NaN  \n",
       "4        NaN    Patient made contact with traveler from the USA         NaN  "
      ]
     },
     "execution_count": 111,
     "metadata": {},
     "output_type": "execute_result"
    }
   ],
   "source": [
    "df.head()"
   ]
  },
  {
   "cell_type": "code",
   "execution_count": 112,
   "id": "colored-discount",
   "metadata": {},
   "outputs": [
    {
     "data": {
      "text/plain": [
       "array(['In recovery', 'In treatment', 'Clinically Stable', nan,\n",
       "       'Deceased', 'Receiving Treatment'], dtype=object)"
      ]
     },
     "execution_count": 112,
     "metadata": {},
     "output_type": "execute_result"
    }
   ],
   "source": [
    "df['current_status'].unique()"
   ]
  },
  {
   "cell_type": "markdown",
   "id": "collective-geography",
   "metadata": {},
   "source": [
    "Current status seems reasonable, should check all deceased have a death date and vice versa."
   ]
  },
  {
   "cell_type": "code",
   "execution_count": 114,
   "id": "amended-shadow",
   "metadata": {},
   "outputs": [
    {
     "data": {
      "text/html": [
       "<div>\n",
       "<style scoped>\n",
       "    .dataframe tbody tr th:only-of-type {\n",
       "        vertical-align: middle;\n",
       "    }\n",
       "\n",
       "    .dataframe tbody tr th {\n",
       "        vertical-align: top;\n",
       "    }\n",
       "\n",
       "    .dataframe thead th {\n",
       "        text-align: right;\n",
       "    }\n",
       "</style>\n",
       "<table border=\"1\" class=\"dataframe\">\n",
       "  <thead>\n",
       "    <tr style=\"text-align: right;\">\n",
       "      <th></th>\n",
       "      <th>case_id</th>\n",
       "      <th>date</th>\n",
       "      <th>age</th>\n",
       "      <th>gender</th>\n",
       "      <th>city</th>\n",
       "      <th>province/state</th>\n",
       "      <th>current_status</th>\n",
       "      <th>source</th>\n",
       "      <th>symptoms</th>\n",
       "      <th>date_onset_symptoms</th>\n",
       "      <th>date_admission_hospital</th>\n",
       "      <th>date_confirmation</th>\n",
       "      <th>underlying_conditions</th>\n",
       "      <th>travel_history_dates</th>\n",
       "      <th>travel_history_location</th>\n",
       "      <th>death_date</th>\n",
       "      <th>notes_for_discussion</th>\n",
       "      <th>Unnamed: 19</th>\n",
       "    </tr>\n",
       "  </thead>\n",
       "  <tbody>\n",
       "    <tr>\n",
       "      <th>26</th>\n",
       "      <td>27</td>\n",
       "      <td>2020-03-22</td>\n",
       "      <td>67</td>\n",
       "      <td>Male</td>\n",
       "      <td>FCT</td>\n",
       "      <td>Abuja</td>\n",
       "      <td>Deceased</td>\n",
       "      <td>https://twitter.com/NCDCgov/status/12416692553...</td>\n",
       "      <td>Severe</td>\n",
       "      <td>NaN</td>\n",
       "      <td>3/22/2020</td>\n",
       "      <td>3/22/2020</td>\n",
       "      <td>Diabetes, Myeloma.</td>\n",
       "      <td>3/19/2020</td>\n",
       "      <td>UK</td>\n",
       "      <td>3/23/2020</td>\n",
       "      <td>Returned from travel to the UK. Showed symptom...</td>\n",
       "      <td>NaN</td>\n",
       "    </tr>\n",
       "    <tr>\n",
       "      <th>288</th>\n",
       "      <td>289</td>\n",
       "      <td>2020-04-09</td>\n",
       "      <td>0</td>\n",
       "      <td>&lt;NA&gt;</td>\n",
       "      <td>NaN</td>\n",
       "      <td>Delta</td>\n",
       "      <td>Deceased</td>\n",
       "      <td>http://covid19.ncdc.gov.ng/</td>\n",
       "      <td>Mild to moderate</td>\n",
       "      <td>NaN</td>\n",
       "      <td>NaN</td>\n",
       "      <td>NaN</td>\n",
       "      <td>NaN</td>\n",
       "      <td>NaN</td>\n",
       "      <td>NaN</td>\n",
       "      <td>NaN</td>\n",
       "      <td>NaN</td>\n",
       "      <td>NaN</td>\n",
       "    </tr>\n",
       "  </tbody>\n",
       "</table>\n",
       "</div>"
      ],
      "text/plain": [
       "     case_id       date  age gender city province/state current_status  \\\n",
       "26        27 2020-03-22   67   Male  FCT          Abuja       Deceased   \n",
       "288      289 2020-04-09    0   <NA>  NaN          Delta       Deceased   \n",
       "\n",
       "                                                source          symptoms  \\\n",
       "26   https://twitter.com/NCDCgov/status/12416692553...            Severe   \n",
       "288                        http://covid19.ncdc.gov.ng/  Mild to moderate   \n",
       "\n",
       "    date_onset_symptoms date_admission_hospital date_confirmation  \\\n",
       "26                  NaN               3/22/2020         3/22/2020   \n",
       "288                 NaN                     NaN               NaN   \n",
       "\n",
       "    underlying_conditions travel_history_dates travel_history_location  \\\n",
       "26    Diabetes, Myeloma.             3/19/2020                      UK   \n",
       "288                   NaN                  NaN                     NaN   \n",
       "\n",
       "    death_date                               notes_for_discussion Unnamed: 19  \n",
       "26   3/23/2020  Returned from travel to the UK. Showed symptom...         NaN  \n",
       "288        NaN                                                NaN         NaN  "
      ]
     },
     "execution_count": 114,
     "metadata": {},
     "output_type": "execute_result"
    }
   ],
   "source": [
    "df[df['current_status'] == 'Deceased']"
   ]
  },
  {
   "cell_type": "markdown",
   "id": "sealed-cradle",
   "metadata": {},
   "source": [
    "Case ID 289 barely has any data other than mild to moderate symptoms and deceased. Think it might be worth dropping. "
   ]
  },
  {
   "cell_type": "code",
   "execution_count": 116,
   "id": "stainless-ownership",
   "metadata": {},
   "outputs": [],
   "source": [
    "df.drop(288, inplace=True)"
   ]
  },
  {
   "cell_type": "code",
   "execution_count": 117,
   "id": "organic-fireplace",
   "metadata": {},
   "outputs": [
    {
     "data": {
      "text/html": [
       "<div>\n",
       "<style scoped>\n",
       "    .dataframe tbody tr th:only-of-type {\n",
       "        vertical-align: middle;\n",
       "    }\n",
       "\n",
       "    .dataframe tbody tr th {\n",
       "        vertical-align: top;\n",
       "    }\n",
       "\n",
       "    .dataframe thead th {\n",
       "        text-align: right;\n",
       "    }\n",
       "</style>\n",
       "<table border=\"1\" class=\"dataframe\">\n",
       "  <thead>\n",
       "    <tr style=\"text-align: right;\">\n",
       "      <th></th>\n",
       "      <th>case_id</th>\n",
       "      <th>date</th>\n",
       "      <th>age</th>\n",
       "      <th>gender</th>\n",
       "      <th>city</th>\n",
       "      <th>province/state</th>\n",
       "      <th>current_status</th>\n",
       "      <th>source</th>\n",
       "      <th>symptoms</th>\n",
       "      <th>date_onset_symptoms</th>\n",
       "      <th>date_admission_hospital</th>\n",
       "      <th>date_confirmation</th>\n",
       "      <th>underlying_conditions</th>\n",
       "      <th>travel_history_dates</th>\n",
       "      <th>travel_history_location</th>\n",
       "      <th>death_date</th>\n",
       "      <th>notes_for_discussion</th>\n",
       "      <th>Unnamed: 19</th>\n",
       "    </tr>\n",
       "  </thead>\n",
       "  <tbody>\n",
       "    <tr>\n",
       "      <th>26</th>\n",
       "      <td>27</td>\n",
       "      <td>2020-03-22</td>\n",
       "      <td>67</td>\n",
       "      <td>Male</td>\n",
       "      <td>FCT</td>\n",
       "      <td>Abuja</td>\n",
       "      <td>Deceased</td>\n",
       "      <td>https://twitter.com/NCDCgov/status/12416692553...</td>\n",
       "      <td>Severe</td>\n",
       "      <td>NaN</td>\n",
       "      <td>3/22/2020</td>\n",
       "      <td>3/22/2020</td>\n",
       "      <td>Diabetes, Myeloma.</td>\n",
       "      <td>3/19/2020</td>\n",
       "      <td>UK</td>\n",
       "      <td>3/23/2020</td>\n",
       "      <td>Returned from travel to the UK. Showed symptom...</td>\n",
       "      <td>NaN</td>\n",
       "    </tr>\n",
       "  </tbody>\n",
       "</table>\n",
       "</div>"
      ],
      "text/plain": [
       "    case_id       date  age gender city province/state current_status  \\\n",
       "26       27 2020-03-22   67   Male  FCT          Abuja       Deceased   \n",
       "\n",
       "                                               source symptoms  \\\n",
       "26  https://twitter.com/NCDCgov/status/12416692553...   Severe   \n",
       "\n",
       "   date_onset_symptoms date_admission_hospital date_confirmation  \\\n",
       "26                 NaN               3/22/2020         3/22/2020   \n",
       "\n",
       "   underlying_conditions travel_history_dates travel_history_location  \\\n",
       "26   Diabetes, Myeloma.             3/19/2020                      UK   \n",
       "\n",
       "   death_date                               notes_for_discussion Unnamed: 19  \n",
       "26  3/23/2020  Returned from travel to the UK. Showed symptom...         NaN  "
      ]
     },
     "execution_count": 117,
     "metadata": {},
     "output_type": "execute_result"
    }
   ],
   "source": [
    "df[df['current_status'] == 'Deceased']"
   ]
  },
  {
   "cell_type": "code",
   "execution_count": 121,
   "id": "rotary-election",
   "metadata": {},
   "outputs": [
    {
     "data": {
      "text/plain": [
       "array([nan, '3/23/2020'], dtype=object)"
      ]
     },
     "execution_count": 121,
     "metadata": {},
     "output_type": "execute_result"
    }
   ],
   "source": [
    "df['death_date'].unique()"
   ]
  },
  {
   "cell_type": "markdown",
   "id": "reported-phase",
   "metadata": {},
   "source": [
    "Looks like either there weren't many deaths or they haven;t been recorded correctly \n"
   ]
  },
  {
   "cell_type": "code",
   "execution_count": 122,
   "id": "introductory-azerbaijan",
   "metadata": {},
   "outputs": [
    {
     "data": {
      "text/plain": [
       "array(['No', nan, 'Diabetes, Myeloma. ',\n",
       "       '2 cases were repeated as reported in 2/5/2020 (hence were lessed here)'],\n",
       "      dtype=object)"
      ]
     },
     "execution_count": 122,
     "metadata": {},
     "output_type": "execute_result"
    }
   ],
   "source": [
    "df['underlying_conditions'].unique()"
   ]
  },
  {
   "cell_type": "code",
   "execution_count": 123,
   "id": "efficient-invitation",
   "metadata": {},
   "outputs": [
    {
     "data": {
      "text/plain": [
       "No                                                                        2\n",
       "Diabetes, Myeloma.                                                        1\n",
       "2 cases were repeated as reported in 2/5/2020 (hence were lessed here)    1\n",
       "Name: underlying_conditions, dtype: int64"
      ]
     },
     "execution_count": 123,
     "metadata": {},
     "output_type": "execute_result"
    }
   ],
   "source": [
    "df['underlying_conditions'].value_counts()"
   ]
  },
  {
   "cell_type": "markdown",
   "id": "reflected-dialogue",
   "metadata": {},
   "source": [
    "Looks like underlying conditions doesn't really add much."
   ]
  },
  {
   "cell_type": "code",
   "execution_count": 124,
   "id": "martial-house",
   "metadata": {},
   "outputs": [
    {
     "data": {
      "text/plain": [
       "array([nan, '13-Mar-20', '3/14/2020-3/21/2020', '3/14/2020-3/21/2021',\n",
       "       '3/19/2020'], dtype=object)"
      ]
     },
     "execution_count": 124,
     "metadata": {},
     "output_type": "execute_result"
    }
   ],
   "source": [
    "df['travel_history_dates'].unique()"
   ]
  },
  {
   "cell_type": "code",
   "execution_count": 125,
   "id": "surgical-response",
   "metadata": {},
   "outputs": [
    {
     "data": {
      "text/plain": [
       "3/14/2020-3/21/2020    11\n",
       "13-Mar-20               2\n",
       "3/14/2020-3/21/2021     1\n",
       "3/19/2020               1\n",
       "Name: travel_history_dates, dtype: int64"
      ]
     },
     "execution_count": 125,
     "metadata": {},
     "output_type": "execute_result"
    }
   ],
   "source": [
    "df['travel_history_dates'].value_counts()"
   ]
  },
  {
   "cell_type": "code",
   "execution_count": 126,
   "id": "meaning-eating",
   "metadata": {},
   "outputs": [
    {
     "data": {
      "text/plain": [
       "High risk country    20\n",
       "UK                    4\n",
       "USA                   4\n",
       "Germany               1\n",
       "Italy                 1\n",
       "United Kingdom        1\n",
       "France                1\n",
       "Name: travel_history_location, dtype: int64"
      ]
     },
     "execution_count": 126,
     "metadata": {},
     "output_type": "execute_result"
    }
   ],
   "source": [
    "df['travel_history_location'].value_counts()"
   ]
  },
  {
   "cell_type": "markdown",
   "id": "floppy-content",
   "metadata": {},
   "source": [
    "We'll leave the travel history for now, but maybe useful later. "
   ]
  },
  {
   "cell_type": "code",
   "execution_count": 127,
   "id": "authorized-arrival",
   "metadata": {},
   "outputs": [
    {
     "data": {
      "text/plain": [
       "Returned from overseas travel                                                                                                                           21\n",
       "Patient returned from travel to USA                                                                                                                      3\n",
       "Patient came in from Italy.                                                                                                                              1\n",
       "Patient returned from trip to UK and was in 14 day self isolation, developed symptoms and went to the Infectious Disease Hospital, Lagos for testing     1\n",
       "Close contact of a confirmed case. This patient has no travel history of recent                                                                          1\n",
       "Returned from France 3/14/2020                                                                                                                           1\n",
       "2 Cases were repeat as reported on 14th May 2020                                                                                                         1\n",
       "Visited London and returned 3/14/2020                                                                                                                    1\n",
       "l                                                                                                                                                        1\n",
       "No travel history but lives with foreign nationals                                                                                                       1\n",
       "Contact case of a previously confirmed case                                                                                                              1\n",
       "American national                                                                                                                                        1\n",
       "1 Akwa Ibom case was repeat as reported on the 15th May 2020, we suspect this as there was no record of such in 14th may                                 1\n",
       "Returned from travel to the UK. Showed symptoms on 3/17/2020, tested and confirmed on Sunday 3/22. Family currently quarantined                          1\n",
       "Patient made contact with traveler from the USA                                                                                                          1\n",
       "Made contact with 3rd confirmed case                                                                                                                     1\n",
       "1 case in nassarawa was reported to be a repeat - thus less here                                                                                         1\n",
       "Name: notes_for_discussion, dtype: int64"
      ]
     },
     "execution_count": 127,
     "metadata": {},
     "output_type": "execute_result"
    }
   ],
   "source": [
    "df['notes_for_discussion'].value_counts()"
   ]
  },
  {
   "cell_type": "markdown",
   "id": "aquatic-dominican",
   "metadata": {},
   "source": [
    "Looks like if necessary we could infer some travel data from the notes for discussion."
   ]
  },
  {
   "cell_type": "code",
   "execution_count": 129,
   "id": "filled-replacement",
   "metadata": {},
   "outputs": [
    {
     "data": {
      "text/plain": [
       "https://twitter.com/NCDCgov/status/1261069300108058626    1\n",
       "https://twitter.com/NCDCgov/status/1261430965043331072    1\n",
       "Name: Unnamed: 19, dtype: int64"
      ]
     },
     "execution_count": 129,
     "metadata": {},
     "output_type": "execute_result"
    }
   ],
   "source": [
    "df['Unnamed: 19'].value_counts()"
   ]
  },
  {
   "cell_type": "code",
   "execution_count": 138,
   "id": "animal-stable",
   "metadata": {},
   "outputs": [
    {
     "data": {
      "text/html": [
       "<div>\n",
       "<style scoped>\n",
       "    .dataframe tbody tr th:only-of-type {\n",
       "        vertical-align: middle;\n",
       "    }\n",
       "\n",
       "    .dataframe tbody tr th {\n",
       "        vertical-align: top;\n",
       "    }\n",
       "\n",
       "    .dataframe thead th {\n",
       "        text-align: right;\n",
       "    }\n",
       "</style>\n",
       "<table border=\"1\" class=\"dataframe\">\n",
       "  <thead>\n",
       "    <tr style=\"text-align: right;\">\n",
       "      <th></th>\n",
       "      <th>case_id</th>\n",
       "      <th>date</th>\n",
       "      <th>age</th>\n",
       "      <th>gender</th>\n",
       "      <th>city</th>\n",
       "      <th>province/state</th>\n",
       "      <th>current_status</th>\n",
       "      <th>source</th>\n",
       "      <th>symptoms</th>\n",
       "      <th>date_onset_symptoms</th>\n",
       "      <th>date_admission_hospital</th>\n",
       "      <th>date_confirmation</th>\n",
       "      <th>underlying_conditions</th>\n",
       "      <th>travel_history_dates</th>\n",
       "      <th>travel_history_location</th>\n",
       "      <th>death_date</th>\n",
       "      <th>notes_for_discussion</th>\n",
       "      <th>Unnamed: 19</th>\n",
       "    </tr>\n",
       "  </thead>\n",
       "  <tbody>\n",
       "    <tr>\n",
       "      <th>4942</th>\n",
       "      <td>4943</td>\n",
       "      <td>2020-05-13</td>\n",
       "      <td>0</td>\n",
       "      <td>&lt;NA&gt;</td>\n",
       "      <td>NaN</td>\n",
       "      <td>Kaduna</td>\n",
       "      <td>NaN</td>\n",
       "      <td>https://twitter.com/NCDCgov/status/12606986188...</td>\n",
       "      <td>NaN</td>\n",
       "      <td>NaN</td>\n",
       "      <td>NaN</td>\n",
       "      <td>NaN</td>\n",
       "      <td>NaN</td>\n",
       "      <td>NaN</td>\n",
       "      <td>NaN</td>\n",
       "      <td>NaN</td>\n",
       "      <td>2 Cases were repeat as reported on 14th May 2020</td>\n",
       "      <td>https://twitter.com/NCDCgov/status/12610693001...</td>\n",
       "    </tr>\n",
       "  </tbody>\n",
       "</table>\n",
       "</div>"
      ],
      "text/plain": [
       "      case_id       date  age gender city province/state current_status  \\\n",
       "4942     4943 2020-05-13    0   <NA>  NaN         Kaduna            NaN   \n",
       "\n",
       "                                                 source symptoms  \\\n",
       "4942  https://twitter.com/NCDCgov/status/12606986188...      NaN   \n",
       "\n",
       "     date_onset_symptoms date_admission_hospital date_confirmation  \\\n",
       "4942                 NaN                     NaN               NaN   \n",
       "\n",
       "     underlying_conditions travel_history_dates travel_history_location  \\\n",
       "4942                   NaN                  NaN                     NaN   \n",
       "\n",
       "     death_date                              notes_for_discussion  \\\n",
       "4942        NaN  2 Cases were repeat as reported on 14th May 2020   \n",
       "\n",
       "                                            Unnamed: 19  \n",
       "4942  https://twitter.com/NCDCgov/status/12610693001...  "
      ]
     },
     "execution_count": 138,
     "metadata": {},
     "output_type": "execute_result"
    }
   ],
   "source": [
    "df[df['Unnamed: 19'] == 'https://twitter.com/NCDCgov/status/1261069300108058626' ]"
   ]
  },
  {
   "cell_type": "code",
   "execution_count": 139,
   "id": "fifteen-springer",
   "metadata": {},
   "outputs": [
    {
     "data": {
      "text/html": [
       "<div>\n",
       "<style scoped>\n",
       "    .dataframe tbody tr th:only-of-type {\n",
       "        vertical-align: middle;\n",
       "    }\n",
       "\n",
       "    .dataframe tbody tr th {\n",
       "        vertical-align: top;\n",
       "    }\n",
       "\n",
       "    .dataframe thead th {\n",
       "        text-align: right;\n",
       "    }\n",
       "</style>\n",
       "<table border=\"1\" class=\"dataframe\">\n",
       "  <thead>\n",
       "    <tr style=\"text-align: right;\">\n",
       "      <th></th>\n",
       "      <th>case_id</th>\n",
       "      <th>date</th>\n",
       "      <th>age</th>\n",
       "      <th>gender</th>\n",
       "      <th>city</th>\n",
       "      <th>province/state</th>\n",
       "      <th>current_status</th>\n",
       "      <th>source</th>\n",
       "      <th>symptoms</th>\n",
       "      <th>date_onset_symptoms</th>\n",
       "      <th>date_admission_hospital</th>\n",
       "      <th>date_confirmation</th>\n",
       "      <th>underlying_conditions</th>\n",
       "      <th>travel_history_dates</th>\n",
       "      <th>travel_history_location</th>\n",
       "      <th>death_date</th>\n",
       "      <th>notes_for_discussion</th>\n",
       "      <th>Unnamed: 19</th>\n",
       "    </tr>\n",
       "  </thead>\n",
       "  <tbody>\n",
       "    <tr>\n",
       "      <th>1269</th>\n",
       "      <td>1270</td>\n",
       "      <td>2020-04-26</td>\n",
       "      <td>0</td>\n",
       "      <td>&lt;NA&gt;</td>\n",
       "      <td>NaN</td>\n",
       "      <td>Bayelsa</td>\n",
       "      <td>NaN</td>\n",
       "      <td>https://twitter.com/NCDCgov/status/12545490110...</td>\n",
       "      <td>NaN</td>\n",
       "      <td>NaN</td>\n",
       "      <td>NaN</td>\n",
       "      <td>NaN</td>\n",
       "      <td>NaN</td>\n",
       "      <td>NaN</td>\n",
       "      <td>NaN</td>\n",
       "      <td>NaN</td>\n",
       "      <td>1 Akwa Ibom case was repeat as reported on the...</td>\n",
       "      <td>https://twitter.com/NCDCgov/status/12614309650...</td>\n",
       "    </tr>\n",
       "  </tbody>\n",
       "</table>\n",
       "</div>"
      ],
      "text/plain": [
       "      case_id       date  age gender city province/state current_status  \\\n",
       "1269     1270 2020-04-26    0   <NA>  NaN        Bayelsa            NaN   \n",
       "\n",
       "                                                 source symptoms  \\\n",
       "1269  https://twitter.com/NCDCgov/status/12545490110...      NaN   \n",
       "\n",
       "     date_onset_symptoms date_admission_hospital date_confirmation  \\\n",
       "1269                 NaN                     NaN               NaN   \n",
       "\n",
       "     underlying_conditions travel_history_dates travel_history_location  \\\n",
       "1269                   NaN                  NaN                     NaN   \n",
       "\n",
       "     death_date                               notes_for_discussion  \\\n",
       "1269        NaN  1 Akwa Ibom case was repeat as reported on the...   \n",
       "\n",
       "                                            Unnamed: 19  \n",
       "1269  https://twitter.com/NCDCgov/status/12614309650...  "
      ]
     },
     "execution_count": 139,
     "metadata": {},
     "output_type": "execute_result"
    }
   ],
   "source": [
    "df[df['Unnamed: 19'] == 'https://twitter.com/NCDCgov/status/1261430965043331072' ]"
   ]
  },
  {
   "cell_type": "code",
   "execution_count": 133,
   "id": "incoming-comparative",
   "metadata": {},
   "outputs": [
    {
     "data": {
      "text/plain": [
       "4942    https://twitter.com/NCDCgov/status/12606986188...\n",
       "Name: source, dtype: object"
      ]
     },
     "execution_count": 133,
     "metadata": {},
     "output_type": "execute_result"
    }
   ],
   "source": [
    "df[df['Unnamed: 19'] == 'https://twitter.com/NCDCgov/status/1261069300108058626']['source']"
   ]
  },
  {
   "cell_type": "code",
   "execution_count": 135,
   "id": "breeding-conversation",
   "metadata": {},
   "outputs": [
    {
     "data": {
      "text/plain": [
       "1269    https://twitter.com/NCDCgov/status/12545490110...\n",
       "Name: source, dtype: object"
      ]
     },
     "execution_count": 135,
     "metadata": {},
     "output_type": "execute_result"
    }
   ],
   "source": [
    "df[df['Unnamed: 19'] == 'https://twitter.com/NCDCgov/status/1261430965043331072']['source']"
   ]
  },
  {
   "cell_type": "markdown",
   "id": "understood-narrow",
   "metadata": {},
   "source": [
    "The unnamed column only contains 2 extra sources - which maybe correct as the source in the original data is dead. We may as well replace the source with the unnamed column for the 2 values that are present, then drop the column."
   ]
  },
  {
   "cell_type": "code",
   "execution_count": 142,
   "id": "suitable-jersey",
   "metadata": {},
   "outputs": [],
   "source": [
    "df.loc[df['Unnamed: 19'] == 'https://twitter.com/NCDCgov/status/1261069300108058626', 'source'] = 'https://twitter.com/NCDCgov/status/1261069300108058626'\n",
    "df.loc[df['Unnamed: 19'] == 'https://twitter.com/NCDCgov/status/1261430965043331072', 'source'] = 'https://twitter.com/NCDCgov/status/1261430965043331072'\n",
    "df.drop('Unnamed: 19', axis=1, inplace=True)"
   ]
  },
  {
   "cell_type": "markdown",
   "id": "dried-right",
   "metadata": {},
   "source": [
    "## Visualisations\n",
    "\n",
    "Here we explore some basic visualisations"
   ]
  },
  {
   "cell_type": "code",
   "execution_count": 143,
   "id": "coated-sympathy",
   "metadata": {},
   "outputs": [
    {
     "data": {
      "text/plain": [
       "<AxesSubplot:xlabel='date'>"
      ]
     },
     "execution_count": 143,
     "metadata": {},
     "output_type": "execute_result"
    },
    {
     "data": {
      "image/png": "[encoded data removed]",
      "text/plain": [
       "<Figure size 432x288 with 1 Axes>"
      ]
     },
     "metadata": {
      "needs_background": "light"
     },
     "output_type": "display_data"
    }
   ],
   "source": [
    "df.groupby(df['date']).size().plot()"
   ]
  },
  {
   "cell_type": "code",
   "execution_count": null,
   "id": "informed-rwanda",
   "metadata": {},
   "outputs": [],
   "source": []
  },
  {
   "cell_type": "code",
   "execution_count": 110,
   "id": "median-purchase",
   "metadata": {},
   "outputs": [],
   "source": []
  },
  {
   "cell_type": "code",
   "execution_count": null,
   "id": "unexpected-challenge",
   "metadata": {},
   "outputs": [],
   "source": []
  }
 ],
 "metadata": {
  "kernelspec": {
   "display_name": "Python 3",
   "language": "python",
   "name": "python3"
  },
  "language_info": {
   "codemirror_mode": {
    "name": "ipython",
    "version": 3
   },
   "file_extension": ".py",
   "mimetype": "text/x-python",
   "name": "python",
   "nbconvert_exporter": "python",
   "pygments_lexer": "ipython3",
   "version": "3.7.9"
  }
 },
 "nbformat": 4,
 "nbformat_minor": 5
}
